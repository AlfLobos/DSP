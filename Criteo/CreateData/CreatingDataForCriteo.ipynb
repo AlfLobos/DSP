{
 "cells": [
  {
   "cell_type": "code",
   "execution_count": 5,
   "metadata": {},
   "outputs": [],
   "source": [
    "import pandas as pd\n",
    "import numpy as np\n",
    "from scipy.stats import lognorm as lognormal\n",
    "from scipy.stats import beta as beta\n",
    "\n",
    "import matplotlib.pyplot as plt\n",
    "import os\n",
    "import pickle\n",
    "import sys\n",
    "\n",
    "from Utilities import CreateMatEdgesAndCTR, CreateCtrVectorFromMatrices, CreateBetaParams,\\\n",
    "    ForBetaDist, ForLogNormalDist,  CreateGraph, CreateTableIndL2IndGr, NumericSecPrice,\\\n",
    "    CreatePPFTableFromOrdLists, NumericSecPriceFromPPF"
   ]
  },
  {
   "cell_type": "code",
   "execution_count": 6,
   "metadata": {},
   "outputs": [],
   "source": [
    "## Campaign names that appear in train76 in order.\n",
    "campaignNamesTest = [\"73322\",\"73325\",\"73327\",\"73328\",\"83677\",\"289466\",\"336258\",\"408759\",\"442617\",\"497590\",\"497593\",\"604244\",\"604249\",\"690012\",\"716288\",\"787943\",\"804100\",\"828346\",\"884761\",\"946549\",\"1130498\",\"1313883\",\"1341195\",\"1341198\",\"1415896\",\"1428788\",\"1586481\",\"1632450\",\"1632451\",\"1716282\",\"1869938\",\"1869939\",\"1871873\",\"1946547\",\"2073319\",\"2073328\",\"2077112\",\"2144729\",\"2342814\",\"2390251\",\"2407403\",\"2462355\",\"2576437\",\"2694554\",\"2716286\",\"2716294\",\"2736605\",\"2828357\",\"2865314\",\"2865315\",\"2865318\",\"2865319\",\"2869134\",\"2946551\",\"2953712\",\"2953716\",\"3073302\",\"3073303\",\"3073304\",\"3073305\",\"3139444\",\"3144706\",\"3291799\",\"3291800\",\"3313894\",\"3406182\",\"3406183\",\"3422224\",\"3466867\",\"3610770\",\"3694556\",\"3694557\",\"3788051\",\"3828354\",\"3828360\",\"3858763\",\"3858764\",\"3877975\",\"3884873\",\"3892353\",\"3892354\",\"3960115\",\"4084327\",\"4406178\",\"4406179\",\"4407386\",\"4466870\",\"4626334\",\"4676898\",\"4800911\",\"4804073\",\"4814007\",\"4828346\",\"4828354\",\"4869922\",\"4869923\",\"4913658\",\"5044698\",\"5061823\",\"5061834\",\"5084322\",\"5121533\",\"5121534\",\"5121547\",\"5177431\",\"5281156\",\"5316929\",\"5442463\",\"5474094\",\"5544859\",\"5612724\",\"5686703\",\"5700346\",\"5743152\",\"5743167\",\"5781045\",\"5867090\",\"5871888\",\"5892331\",\"6015885\",\"6121534\",\"6210424\",\"6228543\",\"6316933\",\"6336377\",\"6341185\",\"6442596\",\"6442601\",\"6513183\",\"6516505\",\"6686701\",\"6686703\",\"6686704\",\"6697149\",\"6697150\",\"6781040\",\"6810192\",\"6810200\",\"6886817\",\"6886825\",\"7061828\",\"7075386\",\"7121544\",\"7144711\",\"7210407\",\"7289590\",\"7299461\",\"7336371\",\"7336375\",\"7336381\",\"7351509\",\"7403871\",\"7413800\",\"7462178\",\"7544834\",\"7681481\",\"7686710\",\"7697146\",\"7828336\",\"7828337\",\"7828339\",\"7845418\",\"7869916\",\"7877971\",\"7892338\",\"7980574\",\"8214946\",\"8287704\",\"8403843\",\"8403848\",\"8403853\",\"8403854\",\"8407229\",\"8500299\",\"8634899\",\"8695046\",\"8710016\",\"8710017\",\"8867068\",\"8877963\",\"8877966\",\"8891880\",\"8892339\",\"8892341\",\"8904991\",\"8980571\",\"8980584\",\"8980585\",\"9013587\",\"9042365\",\"9095251\",\"9097334\",\"9097339\",\"9097340\",\"9100689\",\"9100690\",\"9100691\",\"9100692\",\"9100693\",\"9100694\",\"9106406\",\"9106407\",\"9500303\",\"9551057\",\"9610626\",\"9700342\",\"9700343\",\"9810200\",\"10002432\",\"10013589\",\"10055720\",\"10123946\",\"10245630\",\"10321092\",\"10321103\",\"10341182\",\"10383101\",\"10462151\",\"10474106\",\"10491643\",\"10686810\",\"10746437\",\"10810197\",\"10810198\",\"10960760\",\"11028540\",\"11042365\",\"11097337\",\"11289564\",\"11321105\",\"11387831\",\"11500306\",\"11642017\",\"11746439\",\"11765780\",\"11765782\",\"11772330\",\"11803618\",\"11835565\",\"11843320\",\"11938638\",\"11959615\",\"12002431\",\"12042241\",\"12042373\",\"12089516\",\"12100671\",\"12121528\",\"12288258\",\"12289574\",\"12321091\",\"12351511\",\"12407222\",\"12458065\",\"12474087\",\"12491647\",\"12513174\",\"12654888\",\"12700454\",\"12700456\",\"12765785\",\"12810171\",\"12843316\",\"12843317\",\"12843318\",\"12843319\",\"12845408\",\"12947794\",\"12987592\",\"12987593\",\"13104554\",\"13166099\",\"13289562\",\"13300118\",\"13300124\",\"13343035\",\"13365547\",\"13422843\",\"13435356\",\"13442441\",\"13442454\",\"13442456\",\"13445189\",\"13458070\",\"13458071\",\"13462155\",\"13462158\",\"13466843\",\"13576407\",\"13576413\",\"13576416\",\"13661597\",\"13661605\",\"13661607\",\"13661608\",\"13710655\",\"13770704\",\"13810178\",\"13823055\",\"13947793\",\"13947795\",\"14006998\",\"14102485\",\"14104561\",\"14104562\",\"14106384\",\"14106399\",\"14118031\",\"14121532\",\"14235907\",\"14257845\",\"14289571\",\"14300126\",\"14398567\",\"14398570\",\"14445192\",\"14458654\",\"14458669\",\"14466837\",\"14576401\",\"14661605\",\"14891867\",\"15073876\",\"15184511\",\"15321102\",\"15323491\",\"15398570\",\"15422821\",\"15491650\",\"15500294\",\"15500296\",\"15506599\",\"15506600\",\"15518374\",\"15568932\",\"15574227\",\"15654890\",\"15654897\",\"15661602\",\"15743382\",\"15746419\",\"15823034\",\"15885288\",\"15959620\",\"15959625\",\"16040127\",\"16184514\",\"16184517\",\"16294809\",\"16307476\",\"16321090\",\"16422824\",\"16491630\",\"16506604\",\"16823030\",\"16920597\",\"16920602\",\"16920603\",\"16920604\",\"16922675\",\"17051292\",\"17091415\",\"17132179\",\"17132183\",\"17288254\",\"17288262\",\"17314986\",\"17314989\",\"17321082\",\"17435335\",\"17445189\",\"17491634\",\"17661707\",\"17661709\",\"17661711\",\"17686795\",\"17686799\",\"17710659\",\"17710661\",\"17710664\",\"17916128\",\"18091420\",\"18095238\",\"18104558\",\"18323505\",\"18436526\",\"18443077\",\"18496278\",\"18498193\",\"18498853\",\"18836888\",\"18898397\",\"18899195\",\"18916124\",\"18916125\",\"18975813\",\"18975823\",\"19000595\",\"19129839\",\"19129845\",\"19530182\",\"19602309\",\"19661713\",\"19860994\",\"20097969\",\"20309767\",\"20377297\",\"20443097\",\"20445163\",\"20458055\",\"20496139\",\"20530187\",\"20640037\",\"20695010\",\"20717215\",\"20730227\",\"20817326\",\"20843295\",\"20898399\",\"20898401\",\"20916101\",\"20922679\",\"20938751\",\"21005924\",\"21016759\",\"21096019\",\"21257831\",\"21294794\",\"21307468\",\"21443086\",\"21443097\",\"21640043\",\"21658041\",\"21765872\",\"21830168\",\"21898401\",\"22071674\",\"22071675\",\"22233130\",\"22274902\",\"22296560\",\"22391321\",\"22419532\",\"22431924\",\"22445172\",\"22451482\",\"22496144\",\"22589171\",\"22695010\",\"22723823\",\"22726403\",\"22891661\",\"22891668\",\"22891673\",\"23288223\",\"23310435\",\"23330020\",\"23330022\",\"23346188\",\"23377306\",\"23385780\",\"23530192\",\"23644447\",\"23695013\",\"23817046\",\"23852329\",\"23852330\",\"23852331\",\"23852343\",\"23852344\",\"24045147\",\"24045148\",\"24045153\",\"24045154\",\"24097956\",\"24119478\",\"24119481\",\"24126625\",\"24267774\",\"24316983\",\"24321351\",\"24378636\",\"24389111\",\"24391301\",\"24419530\",\"24491616\",\"24526835\",\"24843272\",\"24843279\",\"24867560\",\"24936122\",\"24942663\",\"24982960\",\"24982961\",\"25045155\",\"25064375\",\"25102583\",\"25119476\",\"25172774\",\"25259856\",\"25391297\",\"25419531\",\"25675129\",\"25843273\",\"25866075\",\"25866076\",\"25920690\",\"25998432\",\"25998433\",\"25998434\",\"25998435\",\"26071516\",\"26091094\",\"26091099\",\"26372320\",\"26383495\",\"26389107\",\"26389108\",\"26491443\",\"26534046\",\"26614024\",\"26614035\",\"26729616\",\"26750599\",\"26750602\",\"26852338\",\"26852339\",\"26874680\",\"26891650\",\"26903589\",\"26945970\",\"26949221\",\"26949222\",\"26949223\",\"26998428\",\"26998432\",\"26998433\",\"26998434\",\"26998435\",\"26998439\",\"27009843\",\"27009857\",\"27009860\",\"27031690\",\"27091101\",\"27091104\",\"27118781\",\"27321366\",\"27323540\",\"27323541\",\"27385784\",\"27491436\",\"27589150\",\"27614018\",\"27644431\",\"27684173\",\"27729624\",\"27777499\",\"27872610\",\"27888153\",\"27891651\",\"27990027\",\"28031695\",\"28071513\",\"28091103\",\"28137208\",\"28233117\",\"28257820\",\"28328731\",\"28351001\",\"28385762\",\"28389117\",\"28726401\",\"28729609\",\"28729624\",\"28739284\",\"28752986\",\"28752988\",\"28795042\",\"28795043\",\"28795047\",\"28864843\",\"28864844\",\"28874676\",\"28896342\",\"28920697\",\"29036280\",\"29091102\",\"29140152\",\"29175063\",\"29345613\",\"29389116\",\"29427842\",\"29513908\",\"29513913\",\"29513914\",\"29513915\",\"29513916\",\"29531970\",\"29531976\",\"29531977\",\"29531983\",\"29534051\",\"29614010\",\"29614011\",\"29614012\",\"29614013\",\"29687342\",\"29687343\",\"29862638\",\"29864831\",\"29874685\",\"29874686\",\"29874688\",\"29880997\",\"29880998\",\"29903689\",\"30175072\",\"30175073\",\"30328739\",\"30368132\",\"30405203\",\"30427825\",\"30471712\",\"30471715\",\"30487330\",\"30491418\",\"30501159\",\"30534043\",\"30535894\",\"30676243\",\"30676250\",\"30729721\",\"30752994\",\"30801593\",\"30810420\",\"30848316\",\"30881002\",\"31084986\",\"31129937\",\"31129938\",\"31129939\",\"31262852\",\"31265168\",\"31323522\",\"31330666\",\"31427832\",\"31452108\",\"31491419\",\"31736975\",\"31748229\",\"31772643\",\"31775712\",\"32009848\",\"32042839\",\"32135669\",\"32135670\",\"32135680\",\"32137193\",\"32321347\",\"32323516\",\"32368241\",\"32368244\",\"32385772\",\"32398755\",\"32398758\",\"32405311\",\"32452108\",\"32452111\"]\n",
    "campaignNamesTrain = [\"73322\",\"73325\",\"73327\",\"73328\",\"83677\",\"289466\",\"336258\",\"408759\",\"442617\",\"497590\",\"497593\",\"604244\",\"604249\",\"690012\",\"716288\",\"787943\",\"804100\",\"828346\",\"884761\",\"946549\",\"1130498\",\"1313883\",\"1341195\",\"1341198\",\"1415896\",\"1428788\",\"1586481\",\"1632450\",\"1632451\",\"1716282\",\"1869938\",\"1869939\",\"1871873\",\"1946547\",\"2073319\",\"2073328\",\"2077112\",\"2144729\",\"2342814\",\"2390251\",\"2407403\",\"2462355\",\"2576437\",\"2694554\",\"2716286\",\"2716294\",\"2736605\",\"2828357\",\"2865314\",\"2865315\",\"2865318\",\"2865319\",\"2869134\",\"2946551\",\"2953712\",\"2953716\",\"3073302\",\"3073303\",\"3073304\",\"3073305\",\"3139444\",\"3144706\",\"3291799\",\"3291800\",\"3313894\",\"3406182\",\"3406183\",\"3422224\",\"3466867\",\"3610770\",\"3694556\",\"3694557\",\"3788051\",\"3828354\",\"3828360\",\"3858763\",\"3858764\",\"3877975\",\"3877978\",\"3884873\",\"3892353\",\"3892354\",\"3960115\",\"4084327\",\"4293600\",\"4406178\",\"4406179\",\"4407386\",\"4466870\",\"4626334\",\"4676898\",\"4800911\",\"4804073\",\"4814007\",\"4828346\",\"4828354\",\"4869922\",\"4869923\",\"4913658\",\"5044698\",\"5061823\",\"5061834\",\"5084322\",\"5121533\",\"5121534\",\"5121547\",\"5177431\",\"5281156\",\"5316929\",\"5442463\",\"5474094\",\"5544859\",\"5612724\",\"5686703\",\"5700346\",\"5743152\",\"5743167\",\"5781045\",\"5867090\",\"5871888\",\"5892331\",\"6015885\",\"6121534\",\"6210424\",\"6228543\",\"6316933\",\"6336377\",\"6341185\",\"6442596\",\"6442601\",\"6513183\",\"6516505\",\"6686701\",\"6686703\",\"6686704\",\"6697149\",\"6697150\",\"6781040\",\"6810192\",\"6810200\",\"6886817\",\"6886825\",\"7061828\",\"7075386\",\"7121544\",\"7144711\",\"7210407\",\"7289590\",\"7299461\",\"7336371\",\"7336375\",\"7336381\",\"7351509\",\"7403871\",\"7413800\",\"7462178\",\"7544834\",\"7681481\",\"7686710\",\"7697146\",\"7828336\",\"7828337\",\"7828339\",\"7845418\",\"7869916\",\"7877971\",\"7892338\",\"7980574\",\"8214946\",\"8287704\",\"8403843\",\"8403848\",\"8403853\",\"8403854\",\"8407229\",\"8500299\",\"8634899\",\"8695046\",\"8710016\",\"8710017\",\"8867068\",\"8877963\",\"8877966\",\"8891880\",\"8892339\",\"8892341\",\"8904991\",\"8980571\",\"8980584\",\"8980585\",\"9013587\",\"9042365\",\"9095251\",\"9097334\",\"9097339\",\"9097340\",\"9100689\",\"9100690\",\"9100691\",\"9100692\",\"9100693\",\"9100694\",\"9106406\",\"9106407\",\"9500303\",\"9551057\",\"9610626\",\"9700342\",\"9700343\",\"9810200\",\"10002432\",\"10013589\",\"10055720\",\"10123946\",\"10245630\",\"10321092\",\"10321103\",\"10341182\",\"10383101\",\"10462151\",\"10474106\",\"10491643\",\"10686810\",\"10746437\",\"10810197\",\"10810198\",\"10960760\",\"11028540\",\"11042365\",\"11097337\",\"11289564\",\"11321105\",\"11387831\",\"11500306\",\"11642017\",\"11746439\",\"11765780\",\"11765782\",\"11772330\",\"11803618\",\"11835565\",\"11843320\",\"11938638\",\"11959615\",\"12002431\",\"12042241\",\"12042373\",\"12089516\",\"12089529\",\"12100671\",\"12121528\",\"12288258\",\"12289574\",\"12321091\",\"12351511\",\"12407222\",\"12458065\",\"12474087\",\"12491647\",\"12513174\",\"12654888\",\"12700454\",\"12700456\",\"12765785\",\"12810171\",\"12843316\",\"12843317\",\"12843318\",\"12843319\",\"12845408\",\"12947794\",\"12987592\",\"12987593\",\"13104554\",\"13166099\",\"13289562\",\"13300118\",\"13300124\",\"13343035\",\"13365547\",\"13422843\",\"13435356\",\"13442441\",\"13442454\",\"13442456\",\"13445189\",\"13458070\",\"13458071\",\"13462155\",\"13462158\",\"13466843\",\"13576407\",\"13576413\",\"13576416\",\"13661597\",\"13661605\",\"13661607\",\"13661608\",\"13710655\",\"13770704\",\"13810178\",\"13823055\",\"13947793\",\"13947795\",\"14006998\",\"14102485\",\"14104561\",\"14104562\",\"14106384\",\"14106399\",\"14118031\",\"14121532\",\"14235907\",\"14257845\",\"14289571\",\"14300126\",\"14398567\",\"14398570\",\"14445192\",\"14458654\",\"14458669\",\"14466837\",\"14576401\",\"14661605\",\"14891867\",\"15073876\",\"15184511\",\"15321102\",\"15323491\",\"15398570\",\"15422821\",\"15491650\",\"15500294\",\"15500296\",\"15506599\",\"15506600\",\"15518374\",\"15568932\",\"15574227\",\"15654890\",\"15654897\",\"15661602\",\"15743382\",\"15746419\",\"15823034\",\"15885288\",\"15959620\",\"15959625\",\"16040127\",\"16184514\",\"16184517\",\"16294809\",\"16307476\",\"16321090\",\"16422824\",\"16491630\",\"16506604\",\"16823030\",\"16920597\",\"16920602\",\"16920603\",\"16920604\",\"16922675\",\"17051292\",\"17091415\",\"17132179\",\"17132183\",\"17288254\",\"17288262\",\"17314986\",\"17314989\",\"17321082\",\"17435335\",\"17445189\",\"17491634\",\"17661707\",\"17661709\",\"17661711\",\"17686795\",\"17686799\",\"17710659\",\"17710661\",\"17710664\",\"17916128\",\"18091420\",\"18095238\",\"18104558\",\"18323505\",\"18436526\",\"18443077\",\"18496278\",\"18498193\",\"18498853\",\"18836888\",\"18898397\",\"18899195\",\"18916124\",\"18916125\",\"18975813\",\"18975823\",\"19000595\",\"19129839\",\"19129845\",\"19530182\",\"19602309\",\"19661713\",\"19860994\",\"20097969\",\"20309767\",\"20377297\",\"20443097\",\"20445163\",\"20458055\",\"20496139\",\"20530187\",\"20640037\",\"20695010\",\"20717215\",\"20730227\",\"20817326\",\"20843295\",\"20898399\",\"20898401\",\"20916101\",\"20922679\",\"20938751\",\"21005924\",\"21016759\",\"21096019\",\"21257831\",\"21294794\",\"21307468\",\"21443086\",\"21443097\",\"21640043\",\"21658041\",\"21765872\",\"21830168\",\"21898401\",\"22071674\",\"22071675\",\"22233130\",\"22274902\",\"22296560\",\"22391321\",\"22419532\",\"22431924\",\"22445172\",\"22451482\",\"22496144\",\"22589171\",\"22695010\",\"22723823\",\"22726403\",\"22891661\",\"22891668\",\"22891673\",\"23254639\",\"23288223\",\"23310435\",\"23330020\",\"23330022\",\"23346188\",\"23377306\",\"23385780\",\"23530192\",\"23644447\",\"23695013\",\"23817046\",\"23852329\",\"23852330\",\"23852331\",\"23852343\",\"23852344\",\"24045147\",\"24045148\",\"24045153\",\"24045154\",\"24097956\",\"24119478\",\"24119481\",\"24126625\",\"24267774\",\"24316983\",\"24321351\",\"24378636\",\"24389111\",\"24391301\",\"24419530\",\"24491616\",\"24526835\",\"24843272\",\"24843279\",\"24867560\",\"24936122\",\"24942663\",\"24982960\",\"24982961\",\"25045155\",\"25064375\",\"25102583\",\"25119476\",\"25172774\",\"25259856\",\"25391297\",\"25419531\",\"25675129\",\"25843273\",\"25866075\",\"25866076\",\"25920690\",\"25998432\",\"25998433\",\"25998434\",\"25998435\",\"26071516\",\"26091094\",\"26091099\",\"26321366\",\"26372320\",\"26383493\",\"26383495\",\"26389107\",\"26389108\",\"26491443\",\"26534046\",\"26614024\",\"26614035\",\"26729616\",\"26750599\",\"26750602\",\"26852338\",\"26852339\",\"26874680\",\"26891650\",\"26903589\",\"26945970\",\"26949221\",\"26949222\",\"26949223\",\"26998428\",\"26998432\",\"26998433\",\"26998434\",\"26998435\",\"26998439\",\"27009843\",\"27009857\",\"27009860\",\"27031690\",\"27091101\",\"27091104\",\"27118781\",\"27321366\",\"27323540\",\"27323541\",\"27385784\",\"27491436\",\"27589150\",\"27614018\",\"27644431\",\"27684173\",\"27729624\",\"27777499\",\"27872610\",\"27888153\",\"27891651\",\"27990027\",\"28031695\",\"28071513\",\"28091103\",\"28137208\",\"28233117\",\"28257820\",\"28328731\",\"28351001\",\"28385762\",\"28389117\",\"28726401\",\"28729609\",\"28729624\",\"28739284\",\"28752986\",\"28752988\",\"28795042\",\"28795043\",\"28795047\",\"28864843\",\"28864844\",\"28874676\",\"28896342\",\"28920697\",\"29036280\",\"29091102\",\"29140152\",\"29175063\",\"29345613\",\"29389116\",\"29427842\",\"29513908\",\"29513913\",\"29513914\",\"29513915\",\"29513916\",\"29531970\",\"29531976\",\"29531977\",\"29531983\",\"29534051\",\"29614010\",\"29614011\",\"29614012\",\"29614013\",\"29687342\",\"29687343\",\"29862638\",\"29864831\",\"29874685\",\"29874686\",\"29874688\",\"29880997\",\"29880998\",\"29903689\",\"30175072\",\"30175073\",\"30328739\",\"30368132\",\"30405203\",\"30427825\",\"30471712\",\"30471715\",\"30487330\",\"30491418\",\"30501159\",\"30534043\",\"30535894\",\"30676243\",\"30676250\",\"30729721\",\"30752994\",\"30801593\",\"30810420\",\"30848316\",\"30881002\",\"31084986\",\"31129937\",\"31129938\",\"31129939\",\"31262852\",\"31265168\",\"31323522\",\"31330666\",\"31427832\",\"31452108\",\"31491419\",\"31736975\",\"31748229\",\"31772643\",\"31775712\",\"32009848\",\"32042839\",\"32135669\",\"32135670\",\"32135680\",\"32137193\",\"32321347\",\"32323516\",\"32368241\",\"32368244\",\"32385772\",\"32398755\",\"32398758\",\"32405311\",\"32452108\",\"32452111\"]"
   ]
  },
  {
   "cell_type": "code",
   "execution_count": null,
   "metadata": {},
   "outputs": [],
   "source": []
  },
  {
   "cell_type": "code",
   "execution_count": 7,
   "metadata": {},
   "outputs": [
    {
     "name": "stdout",
     "output_type": "stream",
     "text": [
      "campaignNamesTest is contained in campaignNamesTrain\n"
     ]
    }
   ],
   "source": [
    "## The train names has 6 more names than the test.\n",
    "if set(campaignNamesTest) <= set(campaignNamesTrain):\n",
    "    print(\"campaignNamesTest is contained in campaignNamesTrain\")"
   ]
  },
  {
   "cell_type": "code",
   "execution_count": 8,
   "metadata": {},
   "outputs": [],
   "source": [
    "import os \n",
    "dfCampBidRec = pd.read_csv(os.path.join(os.getcwd(), 'Criteo/campaignBidRecords.csv'))\n",
    "## Minimum amount of times we equired that Criteo bid in behalf of campaign in the Train and Test Set\n",
    "minAllRec = 200\n",
    "\n",
    "listUnsCampAsInt = dfCampBidRec[(dfCampBidRec[\"Count Before Last 7 Days (Training Set)\"] <minAllRec)  |\\\n",
    "             (dfCampBidRec[\"Count in Last 7 Days (Test Set)\"] <minAllRec)][\"Campaign ID\"].tolist()\n",
    "listUnsCamp = [str(i) for i in listUnsCampAsInt]"
   ]
  },
  {
   "cell_type": "code",
   "execution_count": null,
   "metadata": {},
   "outputs": [],
   "source": []
  },
  {
   "cell_type": "code",
   "execution_count": 9,
   "metadata": {},
   "outputs": [],
   "source": [
    "## We will only consider as valid campaigns those that appear listUnsCamp\n",
    "indexesInTrain = []\n",
    "indexesInTest = []\n",
    "usefulCampIds = []\n",
    "\n",
    "##First Let's do the indexes in Train\n",
    "for campaignId in campaignNamesTest:\n",
    "    ## We don't want to consider those campaigns with unsufficient records\n",
    "    if campaignId not in listUnsCamp:\n",
    "        indexesInTrain.append(campaignNamesTrain.index(campaignId))\n",
    "        usefulCampIds.append(campaignId)\n",
    "    \n",
    "## Now in Test\n",
    "for i,campaignId in enumerate(campaignNamesTest): \n",
    "    ## We don't want to consider those campaigns with unsufficient records\n",
    "    if campaignId not in listUnsCamp:\n",
    "        indexesInTest.append(i)\n",
    "    \n",
    "## Are the indexes sorted?\n",
    "for i in range(len(indexesInTrain)-1):\n",
    "    if indexesInTrain[i] > indexesInTrain[i+1]:\n",
    "        print('Not sorted at index '+str(i))\n",
    "\n",
    "## When I read the Csvs the dataframe stored the campaigns as int, therefore the following line\n",
    "usefulCampIdsAsInt = [int(i) for i in usefulCampIds]"
   ]
  },
  {
   "cell_type": "code",
   "execution_count": null,
   "metadata": {},
   "outputs": [],
   "source": []
  },
  {
   "cell_type": "code",
   "execution_count": 10,
   "metadata": {},
   "outputs": [],
   "source": [
    "## The data that has the count of observations, clicks, and conversions.\n",
    "folderTables = os.path.join(os.getcwd(), 'Criteo/AndrewTables')\n",
    "trainDataRaw = np.genfromtxt(os.path.join(folderTables,'train76ModWithoutCampaignLabels.csv'), delimiter=',')\n",
    "testDataRaw = np.genfromtxt(os.path.join(folderTables,'test76ModWithoutCampaignLabels.csv'), delimiter=',')\n"
   ]
  },
  {
   "cell_type": "code",
   "execution_count": 11,
   "metadata": {},
   "outputs": [
    {
     "name": "stdout",
     "output_type": "stream",
     "text": [
      "Do we have the same clusters in Train and Test?\n",
      "We do :)\n"
     ]
    }
   ],
   "source": [
    "print('Do we have the same clusters in Train and Test?')\n",
    "if np.sum((trainDataRaw[:,1] == testDataRaw[:, 1]) == False) >0:\n",
    "    print('No we do not :(')\n",
    "else:\n",
    "    print('We do :)')\n",
    "clusterIds = trainDataRaw[:,1]"
   ]
  },
  {
   "cell_type": "code",
   "execution_count": 12,
   "metadata": {},
   "outputs": [],
   "source": [
    "## For Train let's get the indexes in the correct order in which the campaigns appear in the data.\n",
    "_, colsTrainRaw = np.shape(trainDataRaw)\n",
    "obserColumnsTrain = []\n",
    "clicksColumnsTrain = []\n",
    "converColumnsTrain = []\n",
    "count = 2\n",
    "for index in indexesInTrain:\n",
    "    obserColumnsTrain.append(index*3 +2)\n",
    "    clicksColumnsTrain.append(index*3 +3)\n",
    "    converColumnsTrain.append(index*3 +2)\n",
    "    count += 3"
   ]
  },
  {
   "cell_type": "code",
   "execution_count": 14,
   "metadata": {},
   "outputs": [],
   "source": [
    "## Same for Test\n",
    "_, colsTestRaw = np.shape(testDataRaw)\n",
    "obserColumnsTest = []\n",
    "clicksColumnsTest = []\n",
    "converColumnsTest = []\n",
    "count = 2\n",
    "for index in indexesInTest:\n",
    "    obserColumnsTest.append(index*3 + 2)\n",
    "    clicksColumnsTest.append(index*3 + 3)\n",
    "    converColumnsTest.append(index*3 + 4)\n",
    "    count += 3"
   ]
  },
  {
   "cell_type": "code",
   "execution_count": null,
   "metadata": {},
   "outputs": [],
   "source": []
  },
  {
   "cell_type": "code",
   "execution_count": 15,
   "metadata": {},
   "outputs": [
    {
     "name": "stderr",
     "output_type": "stream",
     "text": [
      "/Users/alobos/anaconda3/lib/python3.6/site-packages/ipykernel_launcher.py:7: RuntimeWarning: invalid value encountered in true_divide\n",
      "  import sys\n",
      "/Users/alobos/anaconda3/lib/python3.6/site-packages/ipykernel_launcher.py:13: RuntimeWarning: invalid value encountered in true_divide\n",
      "  del sys.path[0]\n"
     ]
    }
   ],
   "source": [
    "## Create Matrices of Observations, Clicks, Conversions, ctr, and atr.\n",
    "## We call the matrix \"Raw\", because later we refine them by removing entries \n",
    "## with than a minimum amount of observations.\n",
    "impWonMatTrain = trainDataRaw[:, obserColumnsTrain]\n",
    "clicksMatTrain = trainDataRaw[:, clicksColumnsTrain]\n",
    "converMatTrain = trainDataRaw[:, converColumnsTrain]\n",
    "ctrTrainRaw = np.nan_to_num(clicksMatTrain/impWonMatTrain)\n",
    "# atrTrainRaw = np.nan_to_num(converMatTrain/impWonMatTrain)\n",
    "\n",
    "impWonMatTest = testDataRaw[:, obserColumnsTest]\n",
    "clicksMatTest = testDataRaw[:, clicksColumnsTest]\n",
    "converMatTest = testDataRaw[:, converColumnsTest]\n",
    "ctrTestRaw = np.nan_to_num(clicksMatTest/impWonMatTest)\n",
    "# atrTestRaw = np.nan_to_num(converMatTest/impWonMatTest)"
   ]
  },
  {
   "cell_type": "code",
   "execution_count": null,
   "metadata": {},
   "outputs": [],
   "source": [
    "## For the ~12M logs Train, only get the campaigns, cost, and clusterId columns\n",
    "## Later remove from the dataframe all campaigns that we deemed not worthy.\n",
    "## I multiply the cost by 100, if not they are too small.\n",
    "dfTrain = pd.read_csv(os.path.join(folderTables,'train_with_clusters.csv'),\n",
    "        usecols=[\"campaign\", \"cost\", \"cluster76\"])\n",
    "\n",
    "## And we now reduce the DatFrame to be composed of only the useful campaigns\n",
    "dfTrain = dfTrain[dfTrain[\"campaign\"].isin(usefulCampIdsAsInt)]\n",
    "\n",
    "dfTrain.loc[:, \"cost\"] *=100"
   ]
  },
  {
   "cell_type": "code",
   "execution_count": null,
   "metadata": {},
   "outputs": [],
   "source": [
    "## Same as above for test.\n",
    "dfTest = pd.read_csv(os.path.join(folderTables,'test_with_clusters.csv'),\n",
    "        usecols=[\"campaign\", \"cost\", \"cluster76\"])\n",
    "\n",
    "## And we now reduce the DatFrame to be composed of only the useful campaigns\n",
    "dfTest = dfTest[dfTest[\"campaign\"].isin(usefulCampIdsAsInt)]\n",
    "\n",
    "dfTest.loc[:, \"cost\"] *=100"
   ]
  },
  {
   "cell_type": "code",
   "execution_count": null,
   "metadata": {},
   "outputs": [],
   "source": [
    "## Let's create the Train CTR and Edges Matrix, and then the Test one.\n",
    "minImpressionReq = 30\n",
    "\n",
    "edgesMatrix, ctrTrain, impWonTrainRefined =\\\n",
    "    CreateMatEdgesAndCTR(ctrTrainRaw, impWonMatTrain, minImpressionReq) \n",
    "\n",
    "num_impressions, numCampaigns = np.shape(edgesMatrix)\n",
    "\n",
    "vector_ctrTrain = CreateCtrVectorFromMatrices(numCampaigns, num_impressions, \\\n",
    "     np.sum(edgesMatrix), edgesMatrix, ctrTrain)\n",
    "\n",
    "ctrTest = edgesMatrix * ctrTestRaw\n",
    "\n",
    "vector_ctrTest = CreateCtrVectorFromMatrices(numCampaigns, num_impressions, \\\n",
    "     np.sum(edgesMatrix), edgesMatrix, ctrTest)\n",
    "\n",
    "impWonTestRefined = impWonMatTest * edgesMatrix"
   ]
  },
  {
   "cell_type": "code",
   "execution_count": null,
   "metadata": {},
   "outputs": [],
   "source": [
    "## Hopefully all Campaigns appear more than minImpressionReq in at least one impression type,\n",
    "## and all impression types appears more then minImpressionReq times in at least one campaign.\n",
    "if np.sum(np.sum(edgesMatrix,axis=0) == 0) >0:\n",
    "    print(\"At least one campaign does not have any edge\")\n",
    "else: \n",
    "    print(\"All campaigns appear in at least one edge\")\n",
    "\n",
    "if np.sum(np.sum(edgesMatrix,axis=1) == 0) >0:\n",
    "    print(\"At least one impression type does not have any edge\")\n",
    "else: \n",
    "    print(\"All campaigns appear in at least one edge\")\n"
   ]
  },
  {
   "cell_type": "code",
   "execution_count": null,
   "metadata": {},
   "outputs": [],
   "source": [
    "## Great, let's create the ctr vector and the number of observations and other data\n",
    "vector_s = np.sum(impWonTrainRefined, axis=1)\n",
    "vector_sTest = np.sum(impWonTestRefined, axis=1)\n",
    "[num_edges, index_Imps, index_sizeCamps, index_startCamp, vector_ctrTrain]=\\\n",
    "    CreateGraph(edgesMatrix, ctrTrain)"
   ]
  },
  {
   "cell_type": "code",
   "execution_count": null,
   "metadata": {},
   "outputs": [],
   "source": [
    "num_edges"
   ]
  },
  {
   "cell_type": "code",
   "execution_count": null,
   "metadata": {},
   "outputs": [],
   "source": [
    "## Let's create the Budgets and vector_r (I think is q in our work)\n",
    "\n",
    "## Let's get the total cost per campaign\n",
    "totalCostPerCampDict = np.zeros(len(usefulCampIdsAsInt))\n",
    "for i,campID in enumerate(usefulCampIdsAsInt):\n",
    "    totalCostPerCampDict[i] = \\\n",
    "        np.sum(np.array(dfTrain[dfTrain[\"campaign\"] == campID][\"cost\"].tolist()))\n",
    "        \n",
    "totalCostPerCampDictTest = np.zeros(len(usefulCampIdsAsInt))\n",
    "for i,campID in enumerate(usefulCampIdsAsInt):\n",
    "    totalCostPerCampDictTest[i] = \\\n",
    "        np.sum(np.array(dfTest[dfTest[\"campaign\"] == campID][\"cost\"].tolist()))\n",
    "\n",
    "## Let's get the average CTR per Campaign\n",
    "avgCTRPerCamp = np.sum(clicksMatTrain * edgesMatrix, axis = 0) / \\\n",
    "                np.sum(impWonMatTrain, axis =0)\n",
    "    \n",
    "## Assume and profitMultiplier-1 percentage of profit for Criteo\n",
    "profitMultiplier = 1.0\n",
    "\n",
    "vector_m = totalCostPerCampDict\n",
    "\n",
    "## The vector_r in my code is actually vector_q in the paper.\n",
    "\n",
    "vector_r = profitMultiplier *\\\n",
    "    np.repeat((vector_m / np.sum(clicksMatTrain * edgesMatrix, axis = 0)),index_sizeCamps)\n",
    "\n",
    "vector_mTest = totalCostPerCampDictTest\n",
    "        \n",
    "## Let's get now the average click through rate\n",
    "\n",
    "\n",
    "\n"
   ]
  },
  {
   "cell_type": "code",
   "execution_count": null,
   "metadata": {},
   "outputs": [],
   "source": [
    "np.random.seed(765)\n",
    "aux_unifs = np.repeat( np.random.uniform(0.75,1.25,len(vector_m)),index_sizeCamps)\n",
    "len(vector_r * aux_unifs)"
   ]
  },
  {
   "cell_type": "markdown",
   "metadata": {},
   "source": [
    "### Distribution of Impression Types"
   ]
  },
  {
   "cell_type": "code",
   "execution_count": null,
   "metadata": {},
   "outputs": [],
   "source": [
    "## First let's extract the cost array for each of the impression types\n",
    "costArrayPerImpTrainDict = {}\n",
    "costArrayPerImpTrainDictT = {}\n",
    "for clusterID in clusterIds:\n",
    "    costArrayPerImpTrainDict[clusterID] = \\\n",
    "        np.array(dfTrain[dfTrain[\"cluster76\"] == clusterID][\"cost\"].tolist())\n",
    "    valPer5 = np.percentile(costArrayPerImpTrainDict[clusterID], 2.5)\n",
    "    valPer95 = np.percentile(costArrayPerImpTrainDict[clusterID], 97.5)\n",
    "    costArrayToUse = costArrayPerImpTrainDict[clusterID][:]\n",
    "    costArrayToUse = costArrayToUse[costArrayToUse>= valPer5]\n",
    "    costArrayToUse = costArrayToUse[costArrayToUse<= valPer95]\n",
    "    costArrayPerImpTrainDictT[clusterID] = costArrayToUse"
   ]
  },
  {
   "cell_type": "code",
   "execution_count": null,
   "metadata": {},
   "outputs": [],
   "source": [
    "# Let's Fit the Empirical distribution first"
   ]
  },
  {
   "cell_type": "code",
   "execution_count": null,
   "metadata": {},
   "outputs": [],
   "source": [
    "# NumericSecPriceFromPPF"
   ]
  },
  {
   "cell_type": "code",
   "execution_count": null,
   "metadata": {},
   "outputs": [],
   "source": [
    "np.random.seed(123456)\n",
    "orderedLists = []\n",
    "for i,clusterID in enumerate(clusterIds):\n",
    "    costEntries = len(costArrayPerImpTrainDict[clusterID])\n",
    "    ## We use hte following as the .fit function gets to slow if the array is excessively big.\n",
    "    if costEntries <= 50000:\n",
    "        orderedLists.append(np.sort(costArrayPerImpTrainDict[clusterID]))\n",
    "    else:\n",
    "        indexes = np.random.choice(costEntries,50000,replace = False)\n",
    "        orderedLists.append(np.sort(costArrayPerImpTrainDict[clusterID][indexes]))"
   ]
  },
  {
   "cell_type": "code",
   "execution_count": null,
   "metadata": {},
   "outputs": [],
   "source": [
    "PPFListsEmp = CreatePPFTableFromOrdLists(orderedLists, tunning = 300)"
   ]
  },
  {
   "cell_type": "code",
   "execution_count": null,
   "metadata": {},
   "outputs": [],
   "source": [
    "numSecPricEmp = NumericSecPriceFromPPF(PPFListsEmp)"
   ]
  },
  {
   "cell_type": "code",
   "execution_count": null,
   "metadata": {},
   "outputs": [],
   "source": [
    "# for i, listTo in enumerate(PPFTableEmp):\n",
    "#     count = 0\n",
    "#     for val in listTo:\n",
    "#         if val == 0.001:\n",
    "#             count += 1\n",
    "#     print(str(i)+', '+str(((count)/300)*100)+'%')"
   ]
  },
  {
   "cell_type": "code",
   "execution_count": null,
   "metadata": {},
   "outputs": [],
   "source": [
    "## Let's fit a lognormal distribution \n",
    "parametersLogNormal = np.zeros((len(clusterIds),3))\n",
    "np.random.seed(123456)\n",
    "maximumPerClusterID = []\n",
    "for i,clusterID in enumerate(clusterIds):\n",
    "    costEntries = len(costArrayPerImpTrainDict[clusterID])\n",
    "    ## We use hte following as the .fit function gets to slow if the array is excessively big.\n",
    "    if costEntries <= 50000:\n",
    "        parametersLogNormal[i,:] = lognormal.fit(costArrayPerImpTrainDict[clusterID], floc = 0)\n",
    "        maximumPerClusterID.append(np.max(costArrayPerImpTrainDict[clusterID]))\n",
    "    else:\n",
    "        indexes = np.random.choice(costEntries,50000,replace = False)\n",
    "        entriesToUse = costArrayPerImpTrainDict[clusterID][indexes]\n",
    "        parametersLogNormal[i,:] = lognormal.fit(costArrayPerImpTrainDict[clusterID][indexes], floc = 0)\n",
    "        maximumPerClusterID.append(np.max(entriesToUse))"
   ]
  },
  {
   "cell_type": "code",
   "execution_count": null,
   "metadata": {},
   "outputs": [],
   "source": [
    "## Let's fit a lognormal distribution \n",
    "parametersLogNormal = np.zeros((len(clusterIds),3))\n",
    "np.random.seed(123456)\n",
    "maximumPerClusterID = []\n",
    "for i,clusterID in enumerate(clusterIds):\n",
    "    costEntries = len(costArrayPerImpTrainDict[clusterID])\n",
    "    ## We use hte following as the .fit function gets to slow if the array is excessively big.\n",
    "    if costEntries <= 50000:\n",
    "        parametersLogNormal[i,:] = lognormal.fit(costArrayPerImpTrainDict[clusterID], floc = 0)\n",
    "        maximumPerClusterID.append(np.max(costArrayPerImpTrainDict[clusterID]))\n",
    "    else:\n",
    "        indexes = np.random.choice(costEntries,50000,replace = False)\n",
    "        entriesToUse = costArrayPerImpTrainDict[clusterID][indexes]\n",
    "        parametersLogNormal[i,:] = lognormal.fit(costArrayPerImpTrainDict[clusterID][indexes], floc = 0)\n",
    "        maximumPerClusterID.append(np.max(entriesToUse))"
   ]
  },
  {
   "cell_type": "code",
   "execution_count": null,
   "metadata": {},
   "outputs": [],
   "source": []
  },
  {
   "cell_type": "code",
   "execution_count": null,
   "metadata": {},
   "outputs": [],
   "source": [
    "## Let's fit a lognormal distribution\n",
    "parametersLogNormalTrunc = np.zeros((len(clusterIds),3))\n",
    "np.random.seed(123456)\n",
    "for i,clusterID in enumerate(clusterIds):\n",
    "    ## We use hte following as the .fit function gets to slow if the array is excessively big.\n",
    "    costEntries = len(costArrayPerImpTrainDictT[clusterID])\n",
    "    if costEntries <= 50000:\n",
    "        parametersLogNormalTrunc[i,:] = lognormal.fit(costArrayPerImpTrainDictT[clusterID], floc = 0)\n",
    "    else:\n",
    "        indexes = np.random.choice(costEntries,50000,replace = False)\n",
    "        parametersLogNormalTrunc[i,:] = lognormal.fit(costArrayPerImpTrainDictT[clusterID][indexes], floc = 0)"
   ]
  },
  {
   "cell_type": "code",
   "execution_count": null,
   "metadata": {},
   "outputs": [],
   "source": [
    "parametersBeta = np.zeros((len(clusterIds),4))\n",
    "np.random.seed(123456)\n",
    "for i,clusterID in enumerate(clusterIds):\n",
    "    costEntries = len(costArrayPerImpTrainDict[clusterID])\n",
    "    ## We use hte following as the .fit function gets to slow if the array is excessively big.\n",
    "    if costEntries <= 50000:\n",
    "        parametersBeta[i,:] = beta.fit(costArrayPerImpTrainDict[clusterID], floc = 0)\n",
    "    else:\n",
    "        indexes = np.random.choice(costEntries,50000,replace = False)\n",
    "        parametersBeta[i,:] = beta.fit(costArrayPerImpTrainDict[clusterID][indexes], floc = 0)"
   ]
  },
  {
   "cell_type": "code",
   "execution_count": null,
   "metadata": {},
   "outputs": [],
   "source": [
    "parametersBetaT = np.zeros((len(clusterIds),4))\n",
    "np.random.seed(123456)\n",
    "for i,clusterID in enumerate(clusterIds):\n",
    "    costEntries = len(costArrayPerImpTrainDictT[clusterID])\n",
    "    ## We use hte following as the .fit function gets to slow if the array is excessively big.\n",
    "    if costEntries <= 50000:\n",
    "        parametersBetaT[i,:] = beta.fit(costArrayPerImpTrainDictT[clusterID], floc = 0)\n",
    "    else:\n",
    "        indexes = np.random.choice(costEntries,50000,replace = False)\n",
    "        parametersBetaT[i,:] = beta.fit(costArrayPerImpTrainDictT[clusterID][indexes], floc = 0)"
   ]
  },
  {
   "cell_type": "markdown",
   "metadata": {},
   "source": [
    "### Let's see the fit"
   ]
  },
  {
   "cell_type": "markdown",
   "metadata": {},
   "source": [
    "### Lognormal as it is"
   ]
  },
  {
   "cell_type": "code",
   "execution_count": null,
   "metadata": {},
   "outputs": [],
   "source": [
    "for i,clusterID in enumerate(clusterIds):\n",
    "    fig, ax = plt.subplots(1, 1)\n",
    "    s= parametersLogNormal[i, 0]\n",
    "    loc =parametersLogNormal[i, 1]\n",
    "    scale= parametersLogNormal[i, 2]\n",
    "    rv = lognormal(s=s,  loc=loc, scale=scale)\n",
    "    x = np.linspace(rv.ppf(0.01), rv.ppf(0.99),  100)\n",
    "    ax.plot(x,  rv.pdf(x),  'k-',  lw=2,  label='frozen pdf')\n",
    "    ax.hist(costArrayPerImpTrainDict[clusterID],  25, normed=True,  histtype='bar',\\\n",
    "            alpha=0.5,  label=\"Histogram\")\n",
    "    ax.legend(loc='best',  frameon=False)\n",
    "    plt.title(\"Cluster: \"+str(clusterID)+\",  Imp. Won: \"+str(len(costArrayPerImpTrainDict[clusterID])))\n",
    "    plt.show()"
   ]
  },
  {
   "cell_type": "markdown",
   "metadata": {},
   "source": [
    "### Lognormal Truncated"
   ]
  },
  {
   "cell_type": "code",
   "execution_count": null,
   "metadata": {
    "scrolled": true
   },
   "outputs": [],
   "source": [
    "for i,clusterID in enumerate(clusterIds):\n",
    "    fig, ax = plt.subplots(1, 1)\n",
    "    s= parametersLogNormalTrunc[i, 0]\n",
    "    loc =parametersLogNormalTrunc[i, 1]\n",
    "    scale= parametersLogNormalTrunc[i, 2]\n",
    "    rv = lognormal(s=s,  loc=loc, scale=scale)\n",
    "    x = np.linspace(rv.ppf(0.01), rv.ppf(0.99),  100)\n",
    "    ax.plot(x,  rv.pdf(x),  'k-',  lw=2,  label='frozen pdf')\n",
    "    ax.hist(costArrayPerImpTrainDictT[clusterID],  25, normed=True,  histtype='bar',\\\n",
    "            alpha=0.5,  label=\"Histogram\")\n",
    "    ax.legend(loc='best',  frameon=False)\n",
    "    plt.title(\"Cluster: \"+str(clusterID)+\",  Imp. Won: \"+str(len(costArrayPerImpTrainDictT[clusterID])))\n",
    "    plt.show()"
   ]
  },
  {
   "cell_type": "markdown",
   "metadata": {},
   "source": [
    "## Beta as it is"
   ]
  },
  {
   "cell_type": "code",
   "execution_count": null,
   "metadata": {},
   "outputs": [],
   "source": [
    "for i,clusterID in enumerate(clusterIds):\n",
    "    fig, ax = plt.subplots(1, 1)\n",
    "    a= parametersBeta[i, 0]\n",
    "    b =parametersBeta[i, 1]\n",
    "    loc= parametersBeta[i, 2]\n",
    "    scale=parametersBeta[i, 3]\n",
    "    rv = beta(a=a,  b=b, loc=loc, scale=scale)\n",
    "    x = np.linspace(rv.ppf(0.01), rv.ppf(0.99),  100)\n",
    "    ax.plot(x,  rv.pdf(x),  'k-',  lw=2,  label='frozen pdf')\n",
    "    ax.hist(costArrayPerImpTrainDict[clusterID],  25, normed=True,  histtype='bar',\\\n",
    "            alpha=0.5,  label=\"Histogram\")\n",
    "    ax.legend(loc='best',  frameon=False)\n",
    "    plt.title(\"Cluster: \"+str(clusterID)+\",  Imp. Won: \"+str(len(costArrayPerImpTrainDict[clusterID])))\n",
    "    plt.show()"
   ]
  },
  {
   "cell_type": "markdown",
   "metadata": {},
   "source": [
    "## Beta Truncated"
   ]
  },
  {
   "cell_type": "code",
   "execution_count": null,
   "metadata": {},
   "outputs": [],
   "source": [
    "for i,clusterID in enumerate(clusterIds):\n",
    "    fig, ax = plt.subplots(1, 1)\n",
    "    a= parametersBetaT[i, 0]\n",
    "    b =parametersBetaT[i, 1]\n",
    "    loc= parametersBetaT[i, 2]\n",
    "    scale=parametersBetaT[i, 3]\n",
    "    rv = beta(a=a,  b=b, loc=loc, scale=scale)\n",
    "    x = np.linspace(rv.ppf(0.01), rv.ppf(0.99),  100)\n",
    "    ax.plot(x,  rv.pdf(x),  'k-',  lw=2,  label='frozen pdf')\n",
    "    ax.hist(costArrayPerImpTrainDictT[clusterID],  25, normed=True,  histtype='bar',\\\n",
    "            alpha=0.5,  label=\"Histogram\")\n",
    "    ax.legend(loc='best',  frameon=False)\n",
    "    plt.title(\"Cluster: \"+str(clusterID)+\",  Imp. Won: \"+str(len(costArrayPerImpTrainDictT[clusterID])))\n",
    "    plt.show()"
   ]
  },
  {
   "cell_type": "code",
   "execution_count": null,
   "metadata": {},
   "outputs": [],
   "source": [
    "distMP=ForBetaDist(parametersBetaT,num_impressions)\n",
    "# distMP=ForLogNormalDist(parametersLogNormalTrunc,num_impressions)"
   ]
  },
  {
   "cell_type": "code",
   "execution_count": null,
   "metadata": {},
   "outputs": [],
   "source": [
    "# numericBeta = NumericSecPrice(distMP, 1000)\n",
    "numericBeta = NumericSecPrice(distMP, 1000)"
   ]
  },
  {
   "cell_type": "markdown",
   "metadata": {},
   "source": [
    "## Let's Create The PPF Table"
   ]
  },
  {
   "cell_type": "code",
   "execution_count": null,
   "metadata": {},
   "outputs": [],
   "source": [
    "from Utilities import CreatePPFTable\n",
    "PPFLists = CreatePPFTable(distMP)"
   ]
  },
  {
   "cell_type": "markdown",
   "metadata": {},
   "source": [
    "## Get the sequence of Impression Arrivals"
   ]
  },
  {
   "cell_type": "code",
   "execution_count": null,
   "metadata": {},
   "outputs": [],
   "source": [
    "ImpInOrder = dfTest[\"cluster76\"].tolist()\n",
    "MPInOrder = dfTest[\"cost\"].tolist()"
   ]
  },
  {
   "cell_type": "markdown",
   "metadata": {},
   "source": [
    "## Save the data"
   ]
  },
  {
   "cell_type": "code",
   "execution_count": null,
   "metadata": {},
   "outputs": [],
   "source": [
    "suffix='Criteo/DataCriteo/'\n",
    "current_directory = os.getcwd()\n",
    "results_directory = os.path.join(current_directory, suffix)\n",
    "if not os.path.exists(results_directory):\n",
    "    os.makedirs(results_directory)\n",
    "pickle.dump(vector_m, open(results_directory+'vector_m'+'.p',\"wb\"))\n",
    "pickle.dump(vector_sTest, open(results_directory+'vector_sTest'+'.p',\"wb\"))\n",
    "pickle.dump(vector_r, open(results_directory+'vector_r'+'.p',\"wb\"))\n",
    "pickle.dump(impWonTrainRefined, open(results_directory+'impWonTrainRefined'+'.p',\"wb\"))\n",
    "pickle.dump(impWonTestRefined, open(results_directory+ 'impWonTestRefined'+'.p',\"wb\"))\n",
    "pickle.dump(ctrTrain, open(results_directory+'ctrTrain'+'.p',\"wb\"))\n",
    "pickle.dump(ctrTest, open(results_directory+'ctrTest'+'.p',\"wb\"))\n",
    "pickle.dump(usefulCampIds, open(results_directory+'usefulCampIds'+'.p',\"wb\"))\n",
    "pickle.dump(clusterIds, open(results_directory+'clusterIds'+'.p',\"wb\"))\n",
    "pickle.dump(distMP, open(results_directory+'distMP'+'.p',\"wb\"))\n",
    "pickle.dump(ImpInOrder, open(results_directory+'ImpInOrder'+'.p',\"wb\"))\n",
    "pickle.dump(MPInOrder, open(results_directory+'MPInOrder'+'.p',\"wb\"))\n",
    "pickle.dump(parametersBetaT, open(results_directory+'parametersBetaT'+'.p',\"wb\"))\n",
    "pickle.dump(edgesMatrix, open(results_directory+'edgesMatrix'+'.p',\"wb\"))\n",
    "pickle.dump(avgCTRPerCamp, open(results_directory+'avgCTRPerCamp'+'.p',\"wb\"))\n",
    "pickle.dump(vector_mTest, open(results_directory+'vector_mTest'+'.p',\"wb\"))\n",
    "pickle.dump(numCampaigns, open(results_directory+'numCampaigns'+'.p',\"wb\"))\n",
    "pickle.dump(num_impressions, open(results_directory+'num_impressions'+'.p',\"wb\"))\n",
    "pickle.dump(vector_ctrTest, open(results_directory+'vector_ctrTest'+'.p',\"wb\"))\n",
    "pickle.dump(vector_ctrTrain, open(results_directory+'vector_ctrTrain'+'.p',\"wb\"))\n",
    "pickle.dump(maximumPerClusterID, open(results_directory+'maximumPerClusterID'+'.p',\"wb\"))\n",
    "pickle.dump(PPFLists, open(results_directory+'PPFTable.p',\"wb\"))"
   ]
  },
  {
   "cell_type": "code",
   "execution_count": null,
   "metadata": {},
   "outputs": [],
   "source": [
    "pickle.dump(numericBeta, open(results_directory+'numericBeta.p',\"wb\"))"
   ]
  },
  {
   "cell_type": "markdown",
   "metadata": {},
   "source": [
    "### Let's save the PPFTable and NumericBeta for the Empirical Distribution"
   ]
  },
  {
   "cell_type": "code",
   "execution_count": null,
   "metadata": {},
   "outputs": [],
   "source": [
    "suffix='Criteo/DataCriteo/'\n",
    "current_directory = os.getcwd()\n",
    "results_directory = os.path.join(current_directory, suffix)\n",
    "if not os.path.exists(results_directory):\n",
    "    os.makedirs(results_directory)\n",
    "pickle.dump(PPFListsEmp, open(results_directory+'PPFListsEmp.p',\"wb\"))\n",
    "pickle.dump(numSecPricEmp, open(results_directory+'numSecPricEmp.p',\"wb\"))"
   ]
  },
  {
   "cell_type": "code",
   "execution_count": null,
   "metadata": {},
   "outputs": [],
   "source": []
  }
 ],
 "metadata": {
  "kernelspec": {
   "display_name": "Python 3",
   "language": "python",
   "name": "python3"
  },
  "language_info": {
   "codemirror_mode": {
    "name": "ipython",
    "version": 3
   },
   "file_extension": ".py",
   "mimetype": "text/x-python",
   "name": "python",
   "nbconvert_exporter": "python",
   "pygments_lexer": "ipython3",
   "version": "3.6.4"
  }
 },
 "nbformat": 4,
 "nbformat_minor": 2
}
