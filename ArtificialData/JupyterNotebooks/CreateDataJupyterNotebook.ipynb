{
 "cells": [
  {
   "cell_type": "code",
   "execution_count": 1,
   "metadata": {},
   "outputs": [],
   "source": [
    "import numpy as np\n",
    "import pickle\n",
    "\n",
    "## I import sys to kill the program if an option is not correct.\n",
    "import os\n",
    "import sys\n",
    "\n",
    "from DataCreation import createInitialData"
   ]
  },
  {
   "cell_type": "code",
   "execution_count": 2,
   "metadata": {},
   "outputs": [],
   "source": [
    "from DataCreation import createGraph, createScores"
   ]
  },
  {
   "cell_type": "code",
   "execution_count": 3,
   "metadata": {},
   "outputs": [],
   "source": [
    "saveStartData = True\n",
    "# Fixing Seed For Reproducibility\n",
    "seedNumpy =1234\n",
    "# Create the folde where we will save the model\n",
    "suffix='InstanceInfo/'\n",
    "current_directory = os.getcwd()\n",
    "final_directory = os.path.join(current_directory, suffix)\n",
    "if not os.path.exists(final_directory):\n",
    "    os.makedirs(final_directory)"
   ]
  },
  {
   "cell_type": "markdown",
   "metadata": {},
   "source": [
    "# Comments\n",
    "\n",
    "$b_i \\in [0, UB_i]$ and the highest competing bid for each impression type is taken from $n_i$ i.i.d. Unif(0,UB_i) r.v. ($\\rho_i(b) = \\left( \\tfrac{b}{UB_i} \\right)^{n_i}$ and $\\beta_i(b) =\\tfrac{n}{n+1}b$ for all $b \\in [0,UB_i]$ for second price auctions, because for first $\\beta_i(b)=b$ for all $b \\in [0,UB_i]$). If others distribution would like to be used you should modify the RhoAndBeta.py file.\n",
    "\n",
    "I designed the code in case someone wants to try different configurations (which\n",
    "would be written by them). To do this in the file DataCreation several functions receive *args, **kwargs parameters, e.g., createGraph receive this parameters that should change depending on the value of the graph_type parameter. I implemented only one way of creating graph (explain below), but different ways could be implemented.\n",
    "\n"
   ]
  },
  {
   "cell_type": "code",
   "execution_count": 4,
   "metadata": {},
   "outputs": [],
   "source": [
    "## Parameters:\n",
    "\n",
    "## This is to decide how to make the graph of which campaigns are interested in impression types\n",
    "graph_type = 0\n",
    "## How to create the budget vector (The current option is all campaigns have budget equal to max_budget)\n",
    "budget_Type =0\n",
    "## This to decide how to create the q vector which was how much a campaign pays if an action of interest occurs.\n",
    "valuation_Type = 0\n",
    "## This is to create the s vector.\n",
    "numImp_Type = 0\n",
    "## This is to create the vector CTR or action rate between the different feasible pairs of impression, campaigns.\n",
    "ctr_Type = 1\n",
    "## This is to decide the number of adversaries per impression type\n",
    "othersData=0\n",
    "## Maximum Bid allowed \n",
    "maxBid = 1"
   ]
  },
  {
   "cell_type": "code",
   "execution_count": 5,
   "metadata": {},
   "outputs": [
    {
     "name": "stdout",
     "output_type": "stream",
     "text": [
      "This will write (and maybe re-write) a new     instance. If you wanted to use some instance, kill the program and     do saveStartData =False. To continue press enter.\n"
     ]
    }
   ],
   "source": [
    "#Global Parameters with options\n",
    "if saveStartData:\n",
    "    np.random.seed(seedNumpy)\n",
    "    input_var = input(\"This will write (and maybe re-write) a new \\\n",
    "    instance. If you wanted to use some instance, kill the program and \\\n",
    "    do saveStartData =False. To continue press enter.\")\n",
    "\n",
    "    ## Change the follwing data to your liking.\n",
    "    max_budget=100\n",
    "    max_r=1\n",
    "    max_s=1000\n",
    "    max_adv=4\n",
    "    maxCampaign=50\n",
    "    num_impressions=50\n",
    "    \n",
    "    probImp=np.ones(num_impressions)/num_impressions\n",
    "    ##Create a different Graph\n",
    "    data_for_graph=None\n",
    "    data_for_ctr=None\n",
    "    data_for_m=[max_budget]\n",
    "    data_for_r=[max_r]\n",
    "    data_for_s=[max_s]\n",
    "    data_for_others=[max_adv, maxBid]\n",
    "    args_InitData=[data_for_graph,data_for_ctr,data_for_m,\\\n",
    "                data_for_r,data_for_s,data_for_others]\n",
    "\n",
    "    [numCampaigns,num_edges,index_Imps,index_sizeCamps,index_startCamp,\\\n",
    "        vector_m,vector_q,vector_s,ext_s,adverPerImp,UB_bids,vector_ctr,vector_qctr]=\\\n",
    "        createInitialData(maxCampaign,num_impressions,graph_type, ctr_Type, \\\n",
    "    othersData, budget_Type, valuation_Type, numImp_Type, args_InitData)\n",
    "        \n",
    "    ## For the moment we will accept to bid between [0,1] for each impression type.\n",
    "    vector_maxbid=np.ones(num_edges)\n",
    "\n",
    "    pickle.dump(num_impressions,open(suffix+'num_impressions'+'.p',\"wb\"))\n",
    "    pickle.dump(numCampaigns,open(suffix+'numCampaigns'+'.p',\"wb\"))\n",
    "    pickle.dump(num_edges,open(suffix+'num_edges'+'.p',\"wb\"))\n",
    "    pickle.dump(index_Imps,open(suffix+'index_Imps'+'.p',\"wb\"))\n",
    "    pickle.dump(index_sizeCamps,open(suffix+'index_sizeCamps'+'.p',\"wb\"))\n",
    "    pickle.dump(index_startCamp,open(suffix+'index_startCamp'+'.p',\"wb\"))\n",
    "    pickle.dump(vector_m,open(suffix+'vector_m'+'.p',\"wb\"))\n",
    "    pickle.dump(vector_maxbid,open(suffix+'vector_maxbid'+'.p',\"wb\"))\n",
    "    pickle.dump(vector_q,open(suffix+'vector_q'+'.p',\"wb\"))\n",
    "    pickle.dump(vector_s,open(suffix+'vector_s'+'.p',\"wb\"))\n",
    "    pickle.dump(ext_s,open(suffix+'ext_s'+'.p',\"wb\"))\n",
    "    pickle.dump(adverPerImp,open(suffix+'adverPerImp'+'.p',\"wb\"))\n",
    "    pickle.dump(UB_bids,open(suffix+'UB_bids'+'.p',\"wb\"))\n",
    "    pickle.dump(vector_ctr,open(suffix+'vector_ctr'+'.p',\"wb\"))\n",
    "    pickle.dump(vector_qctr,open(suffix+'vector_qctr'+'.p',\"wb\"))\n",
    "    pickle.dump(probImp,open(suffix+'probImp'+'.p',\"wb\"))\n"
   ]
  },
  {
   "cell_type": "code",
   "execution_count": null,
   "metadata": {},
   "outputs": [],
   "source": []
  },
  {
   "cell_type": "code",
   "execution_count": null,
   "metadata": {},
   "outputs": [],
   "source": []
  }
 ],
 "metadata": {
  "kernelspec": {
   "display_name": "Python 3",
   "language": "python",
   "name": "python3"
  },
  "language_info": {
   "codemirror_mode": {
    "name": "ipython",
    "version": 3
   },
   "file_extension": ".py",
   "mimetype": "text/x-python",
   "name": "python",
   "nbconvert_exporter": "python",
   "pygments_lexer": "ipython3",
   "version": "3.6.4"
  }
 },
 "nbformat": 4,
 "nbformat_minor": 2
}
